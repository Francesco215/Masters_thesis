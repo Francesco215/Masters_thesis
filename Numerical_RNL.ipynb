{
 "cells": [
  {
   "cell_type": "code",
   "execution_count": 1,
   "metadata": {},
   "outputs": [],
   "source": [
    "import matplotlib.pyplot as plt\n",
    "import numpy as np"
   ]
  },
  {
   "cell_type": "markdown",
   "metadata": {},
   "source": [
    "the indexes $\\alpha,\\beta$ assume the values of the valley index $K,K'$\n",
    "\n",
    "$-e\\mathbf J_a(\\mathbf r)= \\sum_b \\sigma_{ab}(\\mathbf r)\\nabla \\psi_b(\\mathbf r)$\n",
    "\n",
    "$ \\psi_b(\\mathbf r)$ is the elettrochemical potential\n",
    "\n",
    "$ \\psi_b(\\mathbf r) = V(\\mathbf r) - \\frac 1e \\frac{\\partial}{\\partial n_b} F(n_K,n_{K'}, \\mathbf r, T)$\n",
    "\n",
    "and  $F(n_K,n_{K'}, \\mathbf r, T)$ is the free energy at the point $\\mathbf r$\n",
    "\n",
    "If we assume $T=0$ we have that the free energy is equal to the energy. The enegy eigenvalues of a Dirac Hamiltonian are \n",
    "\n",
    "$E=\\pm \\sqrt{\\Delta^2 + k_x^2+k_y^2}$\n",
    "\n",
    "But we need to express the energy in terms of the charge density, and for this we need to calculate the density of states of the Dirac-Hamiltonian"
   ]
  },
  {
   "cell_type": "markdown",
   "metadata": {},
   "source": [
    "## Notazione\n",
    "\n",
    "$\\omega^2(k)=k^2+l_v^{-2}\\quad$ e $\\quad l_v^2=D_{v,xx}\\tau_v$\n",
    "\n",
    "$\\tan(\\theta _{VH})=\\sigma _{v,xy}/\\sigma _{c,xx}$"
   ]
  }
 ],
 "metadata": {
  "interpreter": {
   "hash": "31f2aee4e71d21fbe5cf8b01ff0e069b9275f58929596ceb00d14d90e3e16cd6"
  },
  "kernelspec": {
   "display_name": "Python 3.8.9 64-bit",
   "language": "python",
   "name": "python3"
  },
  "language_info": {
   "codemirror_mode": {
    "name": "ipython",
    "version": 3
   },
   "file_extension": ".py",
   "mimetype": "text/x-python",
   "name": "python",
   "nbconvert_exporter": "python",
   "pygments_lexer": "ipython3",
   "version": "3.9.7"
  },
  "orig_nbformat": 4
 },
 "nbformat": 4,
 "nbformat_minor": 2
}
