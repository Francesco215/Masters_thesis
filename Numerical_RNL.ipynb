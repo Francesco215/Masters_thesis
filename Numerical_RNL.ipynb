{
 "cells": [
  {
   "cell_type": "code",
   "execution_count": 21,
   "metadata": {},
   "outputs": [],
   "source": [
    "#importing stuff and defining non important things\n",
    "\n",
    "import matplotlib.pyplot as plt\n",
    "import numpy as np\n",
    "\n",
    "from scipy.constants import hbar, e\n",
    "from scipy.fft import fft\n",
    "from functools import lru_cache\n",
    "from scipy.integrate import quad\n",
    "\n",
    "\n",
    "#pauli matrices\n",
    "identity = np.array([[1,0],[0,1]]) \n",
    "s1 = np.matrix([[0,1],[1,0]])\n",
    "s2 = np.matrix([[0,-1j],[1j,0]])\n",
    "s3 = np.matrix([[1,0],[0,-1]])\n",
    "\n",
    "hall_conductivity=e**2/(2*np.pi*hbar)\n",
    "\n",
    "#we use as unit of measure of energy the elettron volt\n",
    "hbar=hbar/e\n",
    "e=1 #i still use the elettric charge as a variable in case i want to go back to MKS units"
   ]
  },
  {
   "cell_type": "markdown",
   "metadata": {},
   "source": [
    "Let the two valley indexes be $K_0,K_1$\n",
    "\n",
    "$-e\\mathbf J_{K_{\\alpha}}(\\mathbf r)= \\sum_{\\beta\\in \\{0,1\\}} \\sigma_{K_\\alpha K_\\beta}(\\mathbf r)\\nabla \\psi_{K_\\beta}(\\mathbf r)$\n",
    "\n",
    "$ \\psi_{K_\\beta}(\\mathbf r)$ is the elettrochemical potential\n",
    "\n",
    "$ \\psi_{K_\\beta}(\\mathbf r) = V(\\mathbf r) - \\frac 1e \\frac{\\partial}{\\partial n_{K_\\beta}} F(n_{K_0},n_{K_1}, T)$\n",
    "\n",
    "where  $F(n_{K_0},n_{K_1}, T)$ is the free energy density in term of the local valley density $n_{K_\\alpha}(\\mathbf r)$, this means that \n",
    "\n",
    "$\\mu (n_{K_0},n_{K_{1}}, T)=\\frac{\\partial}{\\partial n_{K_\\beta}} F(n_{K_0},n_{K_{1}}, T)$\n",
    "\n",
    "From now on we are going to assume $T=0$, so the electron will have a step distibution\n",
    "\n",
    "The hamiltonian near the two valleys is\n",
    "\n",
    "$H_{K_0}=-H_{K_1}^*=\\hbar v_f\\mathbf k \\cdot \\mathbf \\sigma + \\Delta \\sigma^z$\n",
    "\n",
    "where $v_f=\\frac {\\sqrt 3}2 at/\\hbar$ and $a,t$ is the hopping constant and the lattice spacing\n",
    "\n",
    "for an easier notation we are going to define $q=v_f\\hbar k$\n",
    "\n",
    "The enegy eigenvalues of a Dirac Hamiltonian are \n",
    "\n",
    "$E=\\pm \\sqrt{\\Delta^2 + q^2}$\n",
    "\n",
    "and the Berry curvature is\n",
    "\n",
    "$\\Omega_{K_0,q_xq_y}=\\frac 12 \\frac{\\Delta^2}{q^2E^3}[q_x+q_y-2q]$\n",
    "\n",
    "if we integrate it between $0$ and $q_f$ we have that\n",
    "\n",
    "$\\int_{q<q_f}\\Omega_{K_0,q_xq_y}dq_xdq_y=-2\\pi \\frac{q_f}{\\Delta^2+q_f^2}$"
   ]
  },
  {
   "cell_type": "code",
   "execution_count": 22,
   "metadata": {},
   "outputs": [],
   "source": [
    "v_f=1e8 #fermi velocity\n",
    "delta=2 #this is empirical and should be changed from material to material\n",
    "\n",
    "# Eigenvalues of the Hamiltonian\n",
    "def DiracEnergy(k_x,k_y=0): #delta is written in elettron volts\n",
    "    dispersion_vector=np.array([v_f*hbar*k_x,v_f*hbar*k_y,delta])\n",
    "    return np.linalg.norm(dispersion_vector)\n",
    "\n",
    "#Berry curvature of the hamiltonian in terms of k_x and k_y\n",
    "#this function is wrong\n",
    "def BerryCurvatureDiracHamiltonian(k_x,k_y=0,delta=0):\n",
    "    return np.array([k_x,k_y,delta])/2*DiracEnergy(k_x,k_y,delta)**3"
   ]
  },
  {
   "cell_type": "code",
   "execution_count": 23,
   "metadata": {},
   "outputs": [
    {
     "name": "stderr",
     "output_type": "stream",
     "text": [
      "/var/folders/vg/h6knjndn79l9ytz887vfbrcm0000gn/T/ipykernel_33259/1454765204.py:6: VisibleDeprecationWarning: Creating an ndarray from ragged nested sequences (which is a list-or-tuple of lists-or-tuples-or ndarrays with different lengths or shapes) is deprecated. If you meant to do this, you must specify 'dtype=object' when creating the ndarray.\n",
      "  dispersion_vector=np.array([v_f*hbar*k_x,v_f*hbar*k_y,delta])\n"
     ]
    },
    {
     "data": {
      "text/plain": [
       "Text(0, 0.5, '$E(k)$ [eV]')"
      ]
     },
     "execution_count": 23,
     "metadata": {},
     "output_type": "execute_result"
    },
    {
     "data": {
      "image/png": "[encoded data removed]",
      "text/plain": [
       "<Figure size 432x288 with 1 Axes>"
      ]
     },
     "metadata": {
      "needs_background": "light"
     },
     "output_type": "display_data"
    }
   ],
   "source": [
    "#plot the eigenvalues of the hamiltonian\n",
    "kx=np.linspace(-2e8,2e8,100)\n",
    "E1=DiracEnergy(kx)\n",
    "E2=-DiracEnergy(kx)\n",
    "\n",
    "plt.plot(kx,E1)\n",
    "plt.plot(kx,E2)\n",
    "plt.xlabel('$k$ [m$^{-1}$]')\n",
    "plt.ylabel('$E(k)$ [eV]')"
   ]
  },
  {
   "cell_type": "markdown",
   "metadata": {},
   "source": [
    "# No intervalley interactions\n",
    "\n",
    "For now we are going to ignore intervalley scattering, this means that $\\sigma_{K_0K_1}=\\sigma_{K_1K_0}=0$, and we will write for simplicity the diagonal elements with just one index ($\\sigma_{K_\\alpha K_\\alpha}=\\sigma_{K_\\alpha}$)\n",
    "\n",
    "Keep in mind that each $\\sigma_{K_\\alpha}$ is a matrix that must be simmetric under rotations this means that the elements are in the form\n",
    "\n",
    "\n",
    "$\\sigma_{K_\\alpha}=\\begin{vmatrix}\n",
    "\\sigma_{K_\\alpha,xx} & \\sigma_{K_\\alpha,xy}\\\\\n",
    "-\\sigma^*_{K_\\alpha,xy} & \\sigma_{K_\\alpha,xx}\n",
    "\\end{vmatrix}$\n",
    "\n",
    "The diagonal entries are from the classic conducibility, while the off diagonal elements are from the Berry curvature\n",
    "\n",
    "$\\sigma_{K_\\alpha,xy}=\\frac {e^2} \\hbar\\int f(E_k)\\Omega_{K_\\alpha}(\\mathbf k)\\frac{d\\mathbf k}{(2\\pi)^2}$\n",
    "\n",
    "from this we can notice that $\\sigma_{K_\\alpha,xy}\\in \\R$, and since the two valleys have opposite berry curvature $\\sigma_{K_0,xy}=-\\sigma_{K_1,xy}$\n",
    "\n",
    "as far as the diagonal elements, we have that $\\sigma_{K_0,xx}=\\sigma_{K_1,xx}$\n",
    "\n",
    "This means that we can define \n",
    "\n",
    "$\\sigma=\\begin{vmatrix}\n",
    "\\sigma_{xx} & \\sigma_{xy}\\\\\n",
    "-\\sigma_{xy} & \\sigma_{xx}\n",
    "\\end{vmatrix}=\\sigma_{xx}\\delta_{ij} + \\sigma_{xy}\\epsilon_{ij}$\n",
    "\n",
    "such that $\\sigma_{K_0}=\\sigma$ and $\\sigma_{K_1}=\\sigma^T$\n",
    "\n",
    "If we calculate the $\\sigma_{xy}$ we have that\n",
    "\n",
    "$\\sigma_{K_\\alpha,xy}=-\\frac {e^2}{2\\pi \\hbar}\\frac{\\sqrt{\\mu^2-\\Delta^2}}\\mu \\Theta(\\mu^2-\\Delta^2)\\textrm{sign}(\\mu)$\n",
    "\n",
    "witch is plotted below"
   ]
  },
  {
   "cell_type": "code",
   "execution_count": 24,
   "metadata": {},
   "outputs": [],
   "source": [
    "def sigma_xy(mu):\n",
    "    multiplier=(mu>delta)-1*(mu<-delta)\n",
    "    if multiplier==0: return hall_conductivity\n",
    "\n",
    "    f_E=np.sqrt(mu**2-delta**2)/mu\n",
    "    return hall_conductivity*(1-f_E*multiplier)\n",
    "sigma_xy=np.vectorize(sigma_xy)\n",
    "\n",
    "sigma_xx=hall_conductivity*(0.5+1e-2) #this is empirical and should be changed from material to material\n",
    "def sigma(mu,K=0): #alpha is the valley index\n",
    "    return sigma_xx*identity-np.array([[0,sigma_xy(mu)],[sigma_xy(mu),0]])*(-1)**K"
   ]
  },
  {
   "cell_type": "code",
   "execution_count": 25,
   "metadata": {},
   "outputs": [
    {
     "data": {
      "image/png": "[encoded data removed]",
      "text/plain": [
       "<Figure size 432x288 with 1 Axes>"
      ]
     },
     "metadata": {
      "needs_background": "light"
     },
     "output_type": "display_data"
    }
   ],
   "source": [
    "#plotting sigma_xy\n",
    "mu=np.linspace(-5,5,1000)\n",
    "s=sigma_xy(mu)\n",
    "plt.plot(mu,s)\n",
    "plt.xlabel('$\\mu$ [eV]')\n",
    "plt.ylabel('$\\sigma_{xy}$')\n",
    "plt.show()"
   ]
  },
  {
   "cell_type": "markdown",
   "metadata": {},
   "source": [
    "Since the two valleys are now non-interacting the free energy can be written as the sum of the two Free energies\n",
    "\n",
    "where $F(n_{K_0},n_{K_1})=F_0(n_{K_0}(\\mathbf r))+F_1(n_{K_1}(\\mathbf r))$\n",
    "\n",
    "this means that we will have two distinct chemical potentials\n",
    "\n",
    "$\\mu_\\alpha(n_{K_\\alpha}(\\mathbf r))=\\frac{\\partial}{\\partial n_{K_\\alpha}}F(n_{K_0},n_{K_1})=\\frac{\\partial}{\\partial n_{K_\\alpha}}F_\\alpha(n_{K_\\alpha}(\\mathbf r))$"
   ]
  },
  {
   "cell_type": "markdown",
   "metadata": {},
   "source": [
    "This simplifies the trasport equation in \n",
    "\n",
    "$-e\\mathbf J_{K_{\\alpha}}(\\mathbf r)= \\sigma_{K_\\alpha}(\\mathbf r)\\nabla \\psi_{K_\\alpha}(\\mathbf r)$\n",
    "\n",
    "$\\nabla \\psi_{K_\\alpha}(\\mathbf r)=\\nabla V(\\mathbf r) -\\frac 1e \\frac{\\partial}{\\partial n_{K_\\alpha}}\\mu_\\alpha(n_{K_\\alpha}(\\mathbf r))\\nabla n_{K_\\alpha}$\n",
    "\n",
    "where $\\frac{\\partial \\mu_{K_\\alpha}}{\\partial n_{K_\\alpha}}=\\frac{\\pi}{\\sqrt{2\\pi |n|+\\Delta^2}}+\\Delta\\delta(n)\\approx \\frac \\pi\\Delta +\\Delta\\delta(n) \\quad \\forall \\alpha$ "
   ]
  },
  {
   "cell_type": "code",
   "execution_count": 26,
   "metadata": {},
   "outputs": [],
   "source": [
    "def mu_n(n):\n",
    "    return np.sign(n)*np.sqrt(2*np.pi*np.abs(n)+delta**2)\n",
    "\n",
    "def dmu_dn(n):\n",
    "    return np.sqrt(2*np.pi*np.abs(n)+delta**2)"
   ]
  },
  {
   "cell_type": "markdown",
   "metadata": {},
   "source": [
    "#### $n(\\mu)$"
   ]
  },
  {
   "cell_type": "markdown",
   "metadata": {},
   "source": [
    "$\\rho(E)=\\frac 1\\pi E\\theta(E^2-\\Delta^2)$\n",
    "\n",
    "If $\\mu>0$ number of particles in a dirac hamiltonian with a fermi dirac distibution is\n",
    "\n",
    "$n=\\int_0^\\mu \\rho(E)dE=\\frac 1\\pi \\int_0^\\mu E\\theta(E^2-\\Delta^2)dE=\\frac 1\\pi\\theta(\\mu^2-\\Delta^2)\\int_\\Delta^\\mu EdE = \\frac {\\theta(\\mu^2-\\Delta^2)}{2\\pi}(\\mu^2-\\Delta^2)$\n",
    "\n",
    "if $\\mu<0$ than we do the same, but with holes, so in the end\n",
    "\n",
    "$n=\\frac {\\theta(\\mu^2-\\Delta^2)}{2\\pi}(\\mu^2-\\Delta^2)\\textrm{sign} (\\mu)$"
   ]
  },
  {
   "cell_type": "code",
   "execution_count": 27,
   "metadata": {},
   "outputs": [],
   "source": [
    "def n_mu(mu):\n",
    "    if mu**2-delta**2<0: return 0\n",
    "\n",
    "    return np.sign(mu)*(mu**2-delta**2)/2*np.pi\n",
    "n_mu=np.vectorize(n_mu)"
   ]
  },
  {
   "cell_type": "code",
   "execution_count": 28,
   "metadata": {},
   "outputs": [
    {
     "data": {
      "text/plain": [
       "[<matplotlib.lines.Line2D at 0x7fef6a0ff1f0>]"
      ]
     },
     "execution_count": 28,
     "metadata": {},
     "output_type": "execute_result"
    },
    {
     "data": {
      "image/png": "[encoded data removed]",
      "text/plain": [
       "<Figure size 432x288 with 1 Axes>"
      ]
     },
     "metadata": {
      "needs_background": "light"
     },
     "output_type": "display_data"
    }
   ],
   "source": [
    "n=n_mu(mu)\n",
    "plt.xlabel('$\\mu$')\n",
    "plt.ylabel('$n$')\n",
    "plt.plot(mu,n)"
   ]
  },
  {
   "cell_type": "markdown",
   "metadata": {},
   "source": [
    "Putting everything together, and writing explicitely the coordinates with the indices $i,j$\n",
    "\n",
    "$-eJ_{K_\\alpha,i}(\\mathbf r)=\\sigma_{K_\\alpha, ij}E_j(\\mathbf r) -\\frac 1e \\sigma_{K_\\alpha, ij}\\frac{\\partial \\mu_\\alpha}{\\partial n_{K_\\alpha}}[n_{K_\\alpha}(\\mathbf r)]\\partial _jn_{K_\\alpha}(\\mathbf r)$\n",
    "\n",
    "We can shorten the equation above by defining\n",
    "\n",
    "$e^2D_{K_\\alpha,ij}=\\sigma_{K_\\alpha, ij}\\frac{\\partial \\mu_\\alpha}{\\partial n_{K_\\alpha}}[n_{K_\\alpha}(\\mathbf r)]$\n",
    "\n",
    "$-eJ_{K_\\alpha,i}(\\mathbf r)=\\sigma_{K_\\alpha, ij}E_j(\\mathbf r) -eD_{K_\\alpha,ij}\\partial _jn_{K_\\alpha}(\\mathbf r)$\n",
    "\n",
    "or, in matrix form\n",
    "\n",
    "$-e\\mathbf J_{K_\\alpha}(\\mathbf r)=\\sigma_{K_\\alpha}\\mathbf E(\\mathbf r) -eD_{K_\\alpha}\\nabla n_{K_\\alpha}(\\mathbf r)$\n",
    "\n",
    "where \n",
    "\n",
    "$\\sigma_{K_\\alpha}$ and  $-eD_{K_\\alpha}$ are matrices"
   ]
  },
  {
   "cell_type": "code",
   "execution_count": 29,
   "metadata": {},
   "outputs": [],
   "source": [
    "\n",
    "def D_K(mu=0,K=0):\n",
    "    return sigma(mu,K)*dmu_dn(n_mu(mu))/e**2\n",
    "\n",
    "def J_K(E,grad_n,mu=0,K=0):\n",
    "    \"\"\"\n",
    "    args:\n",
    "        E(np.array): electric field, must be 2-dimentional\n",
    "        grad_n(np.array): gradient of the density of charge in the valley k, must be 2-dimentional\n",
    "    \"\"\"\n",
    "    sigma=sigma(mu,K)\n",
    "    D_K=D_K(mu,K)\n",
    "    return np.dot(sigma,E)+np.dot(D_K,grad_n)"
   ]
  },
  {
   "cell_type": "markdown",
   "metadata": {},
   "source": [
    "## Re-writing the equations in terms of charge current and valley current\n",
    "\n",
    "Now we will write the currents in terms fo the charge current $\\mathbf J_{c}=\\mathbf J_{K_0}+\\mathbf J_{K_1}$ and spin current $\\mathbf J_{s}=\\mathbf J_{K_0}-\\mathbf J_{K_1}$\n",
    "\n",
    "now we define $\\sigma_c=\\sigma_{K_0}+\\sigma_{K_1}$ and $\\sigma_s=\\sigma_{K_0}-\\sigma_{K_1}$, this means that\n",
    "\n",
    "$\\sigma_c=2\\sigma_{xx}\\delta_{ij}$ and $\\sigma_v=2\\sigma_{xy}\\epsilon_{ij}$\n",
    "\n",
    "The term $-eD_{K_\\alpha}\\nabla n_{K_\\alpha}(\\mathbf r)$ is a little harder to traslate. First off we are going to impose the local charge conservation\n",
    "\n",
    "$n_c(\\mathbf r)=n_{K_0}+n_{K_1}\\approx 0$, and so \n",
    "\n",
    "$n_v(\\mathbf r)=n_{K_0}-n_{K_1}=2n_{K_0}=-2n_{K_1}$"
   ]
  },
  {
   "cell_type": "code",
   "execution_count": 30,
   "metadata": {},
   "outputs": [],
   "source": [
    "sigma_c=2*sigma_xx\n",
    "\n",
    "def sigma_v(mu): return 2*sigma_xy(mu)"
   ]
  },
  {
   "cell_type": "markdown",
   "metadata": {},
   "source": [
    "### Writing $J_c$\n",
    "\n",
    "Now let's do the sum of the $D_{K_\\alpha}\\nabla n_{K_\\alpha}(\\mathbf r)$ terms to write them in terms of charge and valleys degrees of freedom\n",
    "\n",
    "$D_{K_0}\\nabla n_{K_0}+D_{K_1}\\nabla n_{K_1}=(D_{K_0}-D_{K_1})\\nabla n_v(\\mathbf r)/2$\n",
    "\n",
    "$D_{K_0}-D_{K_1}=\\sigma \\frac{\\partial \\mu_0}{\\partial n_{K_0}}- \\sigma^T \\frac{\\partial \\mu_1}{\\partial n_{K_1}}$\n",
    "\n",
    "since $\\mu_v=2\\mu_0=-2\\mu_1$ and $n_v=2n_{K_0}=-2n_{K_1}$\n",
    "\n",
    "$D_{K_0}-D_{K_1}=\\frac 1{e^2}(\\sigma-\\sigma^T)\\frac{\\partial \\mu_v}{\\partial n_v}=\\frac 2{e^2}\\sigma_v\\frac{\\partial \\mu_v}{\\partial n_v}$\n",
    "\n",
    "so i define \n",
    "\n",
    "$D_{cv}=\\frac 2{e^2}\\sigma_v\\frac{\\partial \\mu_v}{\\partial n_v}\\approx\\frac 2{e^2} \\frac \\pi\\Delta\\sigma_v$\n",
    "\n",
    "so we get that\n",
    "\n",
    "$D_{K_0}\\nabla n_{K_0}+D_{K_1}\\nabla n_{K_1}=D_{cv}n_v$\n",
    "\n",
    "Putting it all together we have that\n",
    "\n",
    "$\\mathbf J_c(\\mathbf r)=\\sigma_c \\mathbf E(\\mathbf r)+eD_{cv}\\nabla n_v(\\mathbf r)$\n",
    "\n",
    "Writing all the indices\n",
    "\n",
    "$J_{c,i}=\\sum_j \\sigma_{c,xx}\\delta_{ij}E_i+D_{cv,xy}\\epsilon_{ij}\\partial_j n_v$\n",
    "\n",
    "so we can rewrite them as\n",
    "\n",
    "$\\mathbf J_{c}= \\sigma_{c,xx}\\mathbf E_i + D_{cv,xy} \\nabla \\times n_v$\n",
    "\n",
    "where $\\sigma_{c,xx}$ and $D_{cv,xy}$ are scalars"
   ]
  },
  {
   "cell_type": "markdown",
   "metadata": {},
   "source": [
    "### Writing $\\mathbf J_v$\n",
    "\n",
    "and now the difference of the $D_{K_\\alpha}\\nabla n_{K_\\alpha}(\\mathbf r)$ terms to write them in terms of charge and valleys degrees of freedom\n",
    "\n",
    "$D_{K_0}\\nabla n_{K_0}-D_{K_1}\\nabla n_{K_1}=(D_{K_0}+D_{K_1})\\nabla n_v(\\mathbf r)/2$\n",
    "\n",
    "and with some calculations that are very similar to the one we use to calculate $\\mathbf J_c$ we have that\n",
    "\n",
    "$D_v=\\frac12(D_{K_0}+D_{K_1})=\\frac 1{e^2}\\sigma_c\\frac{\\partial \\mu_c}{\\partial n_c}$\n",
    "\n",
    "so,\n",
    "\n",
    "$\\mathbf J_v(\\mathbf r)=\\sigma_v\\mathbf E(\\mathbf r)+eD_{v}\\nabla n_v(\\mathbf r)$\n",
    "\n",
    "which can be re-written as\n",
    "\n",
    "$\\mathbf J_{v,i}(\\mathbf r)=\\sum_j \\sigma_{c,xy} \\epsilon_{ij} \\mathbf E_j(\\mathbf r)+eD_{v,xx}\\delta_{ij}\\partial_j n_v(\\mathbf r)$\n",
    "\n",
    "where $\\sigma_{c,xy}$ and $D_{v,xx}$ are scalars\n"
   ]
  },
  {
   "cell_type": "code",
   "execution_count": 31,
   "metadata": {},
   "outputs": [],
   "source": [
    "def J_c(E,grad_n,mu=0):\n",
    "    return J_K(E,grad_n,mu,0)+J_K(E,-grad_n,-mu,delta,1)\n",
    "    \n",
    "def J_v(E,grad_n,mu=0):\n",
    "    return J_K(E,grad_n,mu,0)-J_K(E,-grad_n,-mu,1)\n",
    "\n",
    "def D_c(mu):\n",
    "    return (D_K(mu,K=0) - D_K(-mu,K=1))/2\n",
    "\n",
    "def D_v(mu):\n",
    "    return (D_K(mu,K=0) + D_K(-mu,K=1))/2"
   ]
  },
  {
   "cell_type": "code",
   "execution_count": 32,
   "metadata": {},
   "outputs": [
    {
     "data": {
      "text/plain": [
       "array([[3.95152678e-05, 0.00000000e+00],\n",
       "       [0.00000000e+00, 3.95152678e-05]])"
      ]
     },
     "execution_count": 32,
     "metadata": {},
     "output_type": "execute_result"
    }
   ],
   "source": [
    "D_v(0)"
   ]
  },
  {
   "cell_type": "markdown",
   "metadata": {},
   "source": [
    "Now lets calculate the laplacians!\n",
    "\n",
    "$\\nabla \\cdot \\mathbf J_c=\\nabla \\cdot (\\sigma_c \\mathbf E)+ e\\nabla \\cdot (D_{cv}\\nabla n_v)$\n",
    "\n",
    "all the divergence in this equation are equal to zero for a reason or another, this means that $\\nabla^2 V(x,y)=0$ inside the material il will be easier to find the field inside given the bondray conditions, instead if we calculate\n",
    "\n",
    "$\\nabla \\cdot \\mathbf J_v=\\nabla \\times (\\sigma_{c,xy} \\mathbf E)+ e\\nabla \\cdot (D_{v,xx}\\nabla n_v)$\n",
    "\n",
    "Now, lets analythe all the terms one by one\n",
    "\n",
    "- For the continuity equation we have that $\\nabla \\cdot \\mathbf J_v=\\frac \\partial {\\partial t} n_v$, since intervalley scattering is zero, this should be zero, but  why don't add it back now? so we say that it decays exponentially $\\frac \\partial {\\partial t} n_v=-\\frac 1 {\\tau_v} n_v$\n",
    "\n",
    "- $e\\nabla \\cdot (D_{v,xx}\\nabla n_v)$ is really nothing special, inside the material $D_{v,xx}$ is constsant so in the end it is equal to $eD_{v,xx}\\nabla^2 n_v$\n",
    "\n",
    "- $\\nabla \\times (\\sigma_{c,xy} \\mathbf E)$ is equal to zero inside the material, but on the edge can be non-zero because $\\sigma_{c,xy}$ changes form inside to the outside"
   ]
  },
  {
   "cell_type": "markdown",
   "metadata": {},
   "source": [
    "In the end we get that\n",
    "\n",
    "$eD_{v,xx}\\nabla^2n_v=-\\frac 1{\\tau_v}n_v- \\nabla \\times (\\sigma_{c,xy} \\mathbf E)$\n",
    "\n",
    "This means that at the equilibrium $n_v\\neq 0$ only if you are were $\\nabla\\times (\\sigma_{c,xy} \\mathbf E)\\neq 0$, and this is only true along the edge"
   ]
  },
  {
   "cell_type": "markdown",
   "metadata": {},
   "source": [
    "## Notazione\n",
    "\n",
    "$\\omega^2(k)=k^2+l_v^{-2}\\quad$ e $\\quad l_v^2=D_{v,xx}\\tau_v$\n",
    "\n",
    "$\\tan(\\theta _{VH})=\\sigma _{v,xy}/\\sigma _{c,xx}$"
   ]
  },
  {
   "cell_type": "code",
   "execution_count": 33,
   "metadata": {},
   "outputs": [],
   "source": [
    "tau_v=1e-9 #it is empirical and should be changed from material to material\n",
    "def l_v(mu):\n",
    "    return np.sqrt(D_v(mu)[0,0]*tau_v)\n",
    "\n",
    "def omega2(k,mu): #this is omega^2 be careful!\n",
    "    return k**2+l_v(mu)**2\n",
    "\n",
    "def tan_vh(mu):\n",
    "    return sigma_xy(mu)/sigma_c"
   ]
  },
  {
   "cell_type": "code",
   "execution_count": 34,
   "metadata": {},
   "outputs": [
    {
     "data": {
      "image/png": "[encoded data removed]",
      "text/plain": [
       "<Figure size 432x288 with 1 Axes>"
      ]
     },
     "metadata": {
      "needs_background": "light"
     },
     "output_type": "display_data"
    }
   ],
   "source": [
    "plt.plot(np.linspace(0,10,100),[tan_vh(mu) for mu in np.linspace(0,10,100)])\n",
    "plt.ylabel('$\\\\tan(\\\\theta_{VH})$')\n",
    "plt.xlabel('$\\mu$')\n",
    "plt.show()"
   ]
  },
  {
   "cell_type": "code",
   "execution_count": 35,
   "metadata": {},
   "outputs": [],
   "source": [
    "def R_NLk(k,width=1,mu=0.1,broadening=False):\n",
    "    #k=k*1e-17\n",
    "    if broadening==True:\n",
    "        broadening=find_klim(width,mu,1e-1)\n",
    "    else: broadening=1\n",
    "    k=k*broadening\n",
    "    omega=np.sqrt(omega2(k,mu))\n",
    "    tan=tan_vh(mu)\n",
    "    \n",
    "    if np.abs(k)==0: return 1#/sigma_xx\n",
    "    \n",
    "    nominator=2*omega/(k*width)\n",
    "    #nominator=2*omega/(k*sigma_xx)\n",
    "    denominator= omega/np.tanh(k*width/2)+k*tan**2/np.tanh(omega*width/2)\n",
    "\n",
    "    return nominator/denominator\n",
    "\n",
    "R_NLk=np.vectorize(R_NLk)"
   ]
  },
  {
   "cell_type": "code",
   "execution_count": 36,
   "metadata": {},
   "outputs": [],
   "source": [
    "@lru_cache(maxsize=50)\n",
    "def find_klim(width=1,mu=0.1,height=1e-2):\n",
    "    k= np.logspace(-30,20,700,base=10)\n",
    "    R=np.array([R_NLk(k,width,mu) for k in k])\n",
    "    return k[np.where(R<height)[0][0]]"
   ]
  },
  {
   "cell_type": "code",
   "execution_count": 43,
   "metadata": {},
   "outputs": [
    {
     "data": {
      "text/plain": [
       "<matplotlib.legend.Legend at 0x7fef791d6250>"
      ]
     },
     "execution_count": 43,
     "metadata": {},
     "output_type": "execute_result"
    },
    {
     "data": {
      "image/png": "[encoded data removed]",
      "text/plain": [
       "<Figure size 432x288 with 1 Axes>"
      ]
     },
     "metadata": {
      "needs_background": "light"
     },
     "output_type": "display_data"
    }
   ],
   "source": [
    "number_of_graphs=6\n",
    "cmap=plt.get_cmap('viridis')\n",
    "colors=cmap(np.linspace(1e-2,1,number_of_graphs))\n",
    "\n",
    "mu=np.logspace(np.log(delta),np.log(2*delta),number_of_graphs,base=2.5)\n",
    "#mu=np.linspace(delta,2*delta,number_of_graphs)\n",
    "\n",
    "broadening=False\n",
    "width=1e-6\n",
    "for i in range(number_of_graphs):\n",
    "    k= np.logspace(-20,2,80,base=10)\n",
    "    if broadening == False: k=k*find_klim(width,mu[i])\n",
    "    R=[R_NLk(k,width,mu[i],broadening) for k in k]\n",
    "    plt.plot(k,R,color=colors[i] if i!=0 else 'red',label=str(mu[i])[:4])\n",
    "\n",
    "#plt.yscale('log')\n",
    "plt.xscale('log')\n",
    "plt.xlabel('$k$ [m$^{-1}$]')\n",
    "plt.ylabel('$R_{NL}(k)/R_{xx}$')\n",
    "plt.legend(loc='right', bbox_to_anchor=(1.15,0.5), shadow=True,title='$\\mu$ [eV]')"
   ]
  },
  {
   "cell_type": "code",
   "execution_count": 38,
   "metadata": {},
   "outputs": [],
   "source": [
    "@lru_cache(maxsize=50)\n",
    "def R_NLx(width,mu,limit=8e1,xmax=100):\n",
    "    x=(np.arange(0,200)*2*int(limit*xmax/200)+1)*np.pi/limit\n",
    "    RNL=np.array([quad(R_NLk,0,limit,args=(width,mu,True),weight='cos',wvar=i) for i in x])\n",
    "    broadening=find_klim(width,mu,1e-1)\n",
    "    return x*broadening,RNL#*brodening #sto termine perchè non c'è?"
   ]
  },
  {
   "cell_type": "code",
   "execution_count": 39,
   "metadata": {},
   "outputs": [
    {
     "name": "stdout",
     "output_type": "stream",
     "text": [
      "1.9878447580810884e-07\n",
      "1125906.032173998\n"
     ]
    }
   ],
   "source": [
    "print(l_v(0))\n",
    "import texpy as mz\n",
    "mz.ns(1e3)\n",
    "print(find_klim(1e-5,0,1e-1))"
   ]
  },
  {
   "cell_type": "code",
   "execution_count": 44,
   "metadata": {},
   "outputs": [
    {
     "data": {
      "text/plain": [
       "<matplotlib.legend.Legend at 0x7fef6a038be0>"
      ]
     },
     "execution_count": 44,
     "metadata": {},
     "output_type": "execute_result"
    },
    {
     "data": {
      "image/png": "[encoded data removed]",
      "text/plain": [
       "<Figure size 432x288 with 1 Axes>"
      ]
     },
     "metadata": {
      "needs_background": "light"
     },
     "output_type": "display_data"
    }
   ],
   "source": [
    "widths=[1e-5,1e-3,1,1e3,1e5,1e7]\n",
    "widths=[1e-7]#1e-6]#,2e-6]#1e3]\n",
    "for i,w in enumerate(widths):\n",
    "    x,RNL=R_NLx(w,0)\n",
    "    plt.plot(x/l_v(mu=0),np.abs(RNL[:,0]),color=colors[i],label=mz.ns(w/l_v(0)))\n",
    "plt.yscale('log')\n",
    "#plt.xscale('log')\n",
    "plt.ylabel('RNL/$R_{xx}$')\n",
    "plt.xlabel('$x/l_v$')\n",
    "plt.legend(title=\"width/$l_v$\")\n",
    "\n"
   ]
  },
  {
   "cell_type": "code",
   "execution_count": 70,
   "metadata": {},
   "outputs": [],
   "source": [
    "def R_NLx0(x,width=1e-7):\n",
    "    return -2/(np.pi*width)*np.log(np.abs(np.tanh(np.pi*x/(2*width))))\n",
    "R_NLx0=np.vectorize(R_NLx0)\n",
    "\n",
    "def deltaR_NLx(x,mu=0):\n",
    "    tan=tan_vh(mu)\n",
    "    L_v=l_v(mu)*np.sqrt(1+tan**2)\n",
    "\n",
    "    nominator=tan**2*np.exp(-np.abs(x)/L_v)\n",
    "    denominator=2*L_v*(1+tan**2)\n",
    "\n",
    "    return nominator/denominator\n",
    "\n",
    "deltaR_NLx=np.vectorize(deltaR_NLx)"
   ]
  },
  {
   "cell_type": "code",
   "execution_count": 77,
   "metadata": {},
   "outputs": [
    {
     "data": {
      "image/png": "[encoded data removed]",
      "text/plain": [
       "<Figure size 432x288 with 1 Axes>"
      ]
     },
     "metadata": {
      "needs_background": "light"
     },
     "output_type": "display_data"
    }
   ],
   "source": [
    "x=np.linspace(0,l_v(0),100)\n",
    "plt.plot(x/l_v(0),deltaR_NLx(x,1))\n",
    "plt.yscale('log')"
   ]
  },
  {
   "cell_type": "code",
   "execution_count": null,
   "metadata": {},
   "outputs": [],
   "source": []
  }
 ],
 "metadata": {
  "interpreter": {
   "hash": "31f2aee4e71d21fbe5cf8b01ff0e069b9275f58929596ceb00d14d90e3e16cd6"
  },
  "kernelspec": {
   "display_name": "Python 3.8.9 64-bit",
   "language": "python",
   "name": "python3"
  },
  "language_info": {
   "codemirror_mode": {
    "name": "ipython",
    "version": 3
   },
   "file_extension": ".py",
   "mimetype": "text/x-python",
   "name": "python",
   "nbconvert_exporter": "python",
   "pygments_lexer": "ipython3",
   "version": "3.9.7"
  },
  "orig_nbformat": 4
 },
 "nbformat": 4,
 "nbformat_minor": 2
}
