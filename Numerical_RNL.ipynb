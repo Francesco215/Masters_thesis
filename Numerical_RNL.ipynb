{
 "cells": [
  {
   "cell_type": "code",
   "execution_count": 24,
   "metadata": {},
   "outputs": [],
   "source": [
    "#importing stuff and defining non important things\n",
    "\n",
    "import matplotlib.pyplot as plt\n",
    "import numpy as np\n",
    "\n",
    "from scipy.constants import hbar, e\n",
    "\n",
    "#pauli matrices\n",
    "s1 = np.matrix([[0,1],[1,0]])\n",
    "s2 = np.matrix([[0,-1j],[1j,0]])\n",
    "s3 = np.matrix([[1,0],[0,-1]])"
   ]
  },
  {
   "cell_type": "markdown",
   "metadata": {},
   "source": [
    "Let the two valley indexes be $K_0,K_1$\n",
    "\n",
    "$-e\\mathbf J_{K_{\\alpha}}(\\mathbf r)= \\sum_{\\beta\\in \\{0,1\\}} \\sigma_{K_\\alpha K_\\beta}(\\mathbf r)\\nabla \\psi_{K_\\beta}(\\mathbf r)$\n",
    "\n",
    "$ \\psi_{K_\\beta}(\\mathbf r)$ is the elettrochemical potential\n",
    "\n",
    "$ \\psi_{K_\\beta}(\\mathbf r) = V(\\mathbf r) - \\frac 1e \\frac{\\partial}{\\partial n_{K_\\beta}} F(n_{K_0},n_{K_1}, T)$\n",
    "\n",
    "where  $F(n_{K_0},n_{K_1}, T)$ is the free energy density in term of the local valley density $n_{K_\\alpha}(\\mathbf r)$, this means that \n",
    "\n",
    "$\\mu (n_{K_0},n_{K_{1}}, T)=\\frac{\\partial}{\\partial n_{K_\\beta}} F(n_{K_0},n_{K_{1}}, T)$\n",
    "\n",
    "From now on we are going to assume $T=0$, so the electron will have a step distibution\n",
    "\n",
    "The enegy eigenvalues of a Dirac Hamiltonian are \n",
    "\n",
    "$E=\\pm \\sqrt{\\Delta^2 + k_x^2+k_y^2}$\n",
    "\n",
    "and the Berry curvature is\n",
    "\n",
    "$\\Omega_{K_0}(\\mathbf k)=-\\Omega_{K_1}(\\mathbf k)=\\frac 12 \\frac{\\mathbf k}{(k^2+\\Delta^2)^{2/3}}$ FORSE è SBAGLIATO"
   ]
  },
  {
   "cell_type": "code",
   "execution_count": 23,
   "metadata": {},
   "outputs": [],
   "source": [
    "# Eigenvalues of the Hamiltonian\n",
    "def DiracEnergy(k_x,k_y,delta=0):\n",
    "    dispersion_vector=np.array([k_x,k_y,delta])\n",
    "    return np.linalg.norm(dispersion_vector)\n",
    "\n",
    "#Berry curvature of the hamiltonian in terms of k_x and k_y\n",
    "def BerryCurvatureDiracHamiltonian(k_x,k_y,delta=0):\n",
    "    return np.array([k_x,k_y,delta])/2*DiracEnergy(k_x,k_y,delta)**3"
   ]
  },
  {
   "cell_type": "code",
   "execution_count": 21,
   "metadata": {},
   "outputs": [
    {
     "name": "stderr",
     "output_type": "stream",
     "text": [
      "/var/folders/vg/h6knjndn79l9ytz887vfbrcm0000gn/T/ipykernel_80110/1460962824.py:2: VisibleDeprecationWarning: Creating an ndarray from ragged nested sequences (which is a list-or-tuple of lists-or-tuples-or ndarrays with different lengths or shapes) is deprecated. If you meant to do this, you must specify 'dtype=object' when creating the ndarray.\n",
      "  dispersion_vector=np.array([k_x,k_y,delta])\n"
     ]
    },
    {
     "data": {
      "text/plain": [
       "Text(0, 0.5, 'E(k)')"
      ]
     },
     "execution_count": 21,
     "metadata": {},
     "output_type": "execute_result"
    },
    {
     "data": {
      "image/png": "[encoded data removed]",
      "text/plain": [
       "<Figure size 432x288 with 1 Axes>"
      ]
     },
     "metadata": {
      "needs_background": "light"
     },
     "output_type": "display_data"
    }
   ],
   "source": [
    "#plot the eigenvalues of the hamiltonian\n",
    "\n",
    "x=np.linspace(-10,10,100)\n",
    "y1=DiracEnergy(x,2)\n",
    "y2=-DiracEnergy(x,2)\n",
    "\n",
    "plt.plot(x,y1)\n",
    "plt.plot(x,y2)\n",
    "plt.xlabel('|k|')\n",
    "plt.ylabel('E(k)')"
   ]
  },
  {
   "cell_type": "markdown",
   "metadata": {},
   "source": [
    "# No intervalley interactions\n",
    "\n",
    "For now we are going to ignore intervalley scattering, this means that $\\sigma_{K_0K_1}=\\sigma_{K_1K_0}=0$, and we will write for simplicity the diagonal elements with just one index ($\\sigma_{K_\\alpha K_\\alpha}=\\sigma_{K_\\alpha}$)\n",
    "\n",
    "Keep in mind that each $\\sigma_{K_\\alpha}$ is a matrix that must be simmetric under rotations this means that the elements are in the form\n",
    "\n",
    "\n",
    "$\\sigma_{K_\\alpha}=\\begin{vmatrix}\n",
    "\\sigma_{K_\\alpha,xx} & \\sigma_{K_\\alpha,xy}\\\\\n",
    "-\\sigma^*_{K_\\alpha,xy} & \\sigma_{K_\\alpha,xx}\n",
    "\\end{vmatrix}$\n",
    "\n",
    "The diagonal entries are from the classic conducibility, while the off diagonal elements are from the Berry curvature\n",
    "\n",
    "$\\sigma_{K_\\alpha,xy}=\\frac {e^2} \\hbar\\int f(E_k)\\Omega_{K_\\alpha}(\\mathbf k)\\frac{d\\mathbf k}{(2\\pi)^2}$\n",
    "\n",
    "from this we can notice that $\\sigma_{K_\\alpha,xy}\\in \\R$, and since the two valleys have opposite berry curvature $\\sigma_{K_0,xy}=-\\sigma_{K_1,xy}$\n",
    "\n",
    "as far as the diagonal elements, we have that $\\sigma_{K_0,xx}=\\sigma_{K_1,xx}$\n",
    "\n",
    "This means that we can define \n",
    "\n",
    "$\\sigma=\\begin{vmatrix}\n",
    "\\sigma_{xx} & \\sigma_{xy}\\\\\n",
    "-\\sigma_{xy} & \\sigma_{xx}\n",
    "\\end{vmatrix}=\\sigma_{xx}\\delta_{ij} + \\sigma_{xy}\\epsilon_{ij}$\n",
    "\n",
    "such that $\\sigma_{K_0}=\\sigma$ and $\\sigma_{K_1}=\\sigma^T$\n",
    "\n",
    "Now let's calculate $\\sigma_{xy}$ via the Berry Hall effect"
   ]
  },
  {
   "cell_type": "markdown",
   "metadata": {},
   "source": [
    "To actually calculate the hall conducibility first we write everything in terms of the energy\n",
    "\n",
    "$\\rho(E)dE=\\frac 2{(2\\pi)^2}d^2k=\\frac 1{2\\pi}d(k^2)=\\frac 1{2\\pi}d(E^2-\\Delta^2)=\\frac 1\\pi E\\Theta (E^2-\\Delta^2)dE$\n",
    "\n",
    "$\\Omega_{K_\\alpha}(E(\\mathbf k))=$"
   ]
  },
  {
   "cell_type": "code",
   "execution_count": 22,
   "metadata": {},
   "outputs": [],
   "source": [
    "def sigma_xy(fermi_energy):\n",
    "    energy_density(E,delta)\n",
    "    "
   ]
  },
  {
   "cell_type": "markdown",
   "metadata": {},
   "source": [
    "Since the two valleys are now non-interacting the free energy can be written as the sum of the two Free energies\n",
    "\n",
    "where $F(n_{K_0},n_{K_1})=F_0(n_{K_0}(\\mathbf r))+F_1(n_{K_1}(\\mathbf r))$\n",
    "\n",
    "this means that we will have two distinct chemical potentials\n",
    "\n",
    "$\\mu_\\alpha(n_{K_\\alpha}(\\mathbf r))=\\frac{\\partial}{\\partial n_{K_\\alpha}}F(n_{K_0},n_{K_1})=\\frac{\\partial}{\\partial n_{K_\\alpha}}F_\\alpha(n_{K_\\alpha}(\\mathbf r))$"
   ]
  },
  {
   "cell_type": "markdown",
   "metadata": {},
   "source": [
    "This simplifies the trasport equation in \n",
    "\n",
    "$-e\\mathbf J_{K_{\\alpha}}(\\mathbf r)= \\sigma_{K_\\alpha}(\\mathbf r)\\nabla \\psi_{K_\\alpha}(\\mathbf r)$\n",
    "\n",
    "$\\nabla \\psi_{K_\\alpha}(\\mathbf r)=\\nabla V(\\mathbf r) -\\frac 1e \\frac{\\partial}{\\partial n_{K_\\alpha}}\\mu_\\alpha(n_{K_\\alpha}(\\mathbf r))\\nabla n_{K_\\alpha}$"
   ]
  },
  {
   "cell_type": "markdown",
   "metadata": {},
   "source": [
    "Putting everything together, and writing explicitely the coordinates with the indices $i,j$\n",
    "\n",
    "$-eJ_{K_\\alpha,i}(\\mathbf r)=\\sigma_{K_\\alpha, ij}E_j(\\mathbf r) -\\frac 1e \\sigma_{K_\\alpha, ij}\\frac{\\partial \\mu_\\alpha}{\\partial n_{K_\\alpha}}[n_{K_\\alpha}(\\mathbf r)]\\partial _jn_{K_\\alpha}(\\mathbf r)$\n",
    "\n",
    "We can shorten the equation above by defining\n",
    "\n",
    "$e^2D_{K_\\alpha,ij}=\\sigma_{K_\\alpha, ij}\\frac{\\partial \\mu_\\alpha}{\\partial n_{K_\\alpha}}[n_{K_\\alpha}(\\mathbf r)]$\n",
    "\n",
    "$-eJ_{K_\\alpha,i}(\\mathbf r)=\\sigma_{K_\\alpha, ij}E_j(\\mathbf r) -eD_{K_\\alpha,ij}\\partial _jn_{K_\\alpha}(\\mathbf r)$\n",
    "\n",
    "or, in matrix form\n",
    "\n",
    "$-e\\mathbf J_{K_\\alpha}(\\mathbf r)=\\sigma_{K_\\alpha}\\mathbf E(\\mathbf r) -eD_{K_\\alpha}\\nabla n_{K_\\alpha}(\\mathbf r)$\n",
    "\n",
    "where \n",
    "\n",
    "$\\sigma_{K_\\alpha}$ and  $-eD_{K_\\alpha}$ are matrices"
   ]
  },
  {
   "cell_type": "markdown",
   "metadata": {},
   "source": [
    "## Re-writing the equations in terms of charge current and valley current\n",
    "\n",
    "Now we will write the currents in terms fo the charge current $\\mathbf J_{c}=\\mathbf J_{K_0}+\\mathbf J_{K_1}$ and spin current $\\mathbf J_{s}=\\mathbf J_{K_0}-\\mathbf J_{K_1}$\n",
    "\n",
    "This means that $\\sigma_c=\\sigma_{K_0}+\\sigma_{K_1}$ and $\\sigma_s=\\sigma_{K_0}-\\sigma_{K_1}$, this means that\n",
    "\n",
    "$\\sigma_c=2\\sigma_{xx}\\delta_{ij}$ and $\\sigma_v=2\\sigma_{xy}\\epsilon_{ij}$\n",
    "\n"
   ]
  },
  {
   "cell_type": "markdown",
   "metadata": {},
   "source": [
    "The term $-eD_{K_\\alpha}\\nabla n_{K_\\alpha}(\\mathbf r)$ is a little harder to traslate. First off we are going to impose the local charge conservation\n",
    "\n",
    "$n_c(\\mathbf r)=n_{K_0}+n_{K_1}\\approx 0$, and so \n",
    "\n",
    "$n_v(\\mathbf r)=n_{K_0}-n_{K_1}=2n_{K_0}=-2n_{K_1}$\n",
    "\n",
    "Now let's do the sum and the difference of the $D_{K_\\alpha}\\nabla n_{K_\\alpha}(\\mathbf r)$ terms to write them in terms of charge and valleys degrees of freedom\n",
    "\n",
    "$D_{K_0}\\nabla n_{K_0}+D_{K_1}\\nabla n_{K_1}=(D_{K_0}-D_{K_1})\\nabla n_v(\\mathbf r)/2$\n",
    "\n",
    "$D_{K_0}-D_{K_1}=\\sigma \\frac{\\partial \\mu_0}{\\partial n_{K_0}}- \\sigma^T \\frac{\\partial \\mu_1}{\\partial n_{K_1}}$\n",
    "\n",
    "since $\\mu_v=2\\mu_0=-2\\mu_1$ and $n_v=2n_{K_0}=-2n_{K_1}$\n",
    "\n",
    "$D_{K_0}-D_{K_1}=\\frac 1{e^2}(\\sigma-\\sigma^T)\\frac{\\partial \\mu_v}{\\partial n_v}=\\frac 1{e^2}\\sigma_v\\frac{\\partial \\mu_v}{\\partial n_v}$\n",
    "\n",
    "so i define \n",
    "\n",
    "$D_{cv}=\\frac 1{e^2}\\sigma_v\\frac{\\partial \\mu_v}{\\partial n_v}$"
   ]
  },
  {
   "cell_type": "markdown",
   "metadata": {},
   "source": []
  },
  {
   "cell_type": "markdown",
   "metadata": {},
   "source": [
    "## Notazione\n",
    "\n",
    "$\\omega^2(k)=k^2+l_v^{-2}\\quad$ e $\\quad l_v^2=D_{v,xx}\\tau_v$\n",
    "\n",
    "$\\tan(\\theta _{VH})=\\sigma _{v,xy}/\\sigma _{c,xx}$"
   ]
  },
  {
   "cell_type": "markdown",
   "metadata": {},
   "source": [
    "# Useless parts"
   ]
  },
  {
   "cell_type": "markdown",
   "metadata": {},
   "source": [
    "But we need to express the energy in terms of the charge density, and for this we need to calculate the density of states of the Dirac-Hamiltonian wich is equal to\n",
    "\n",
    "$\\rho(E)=\\frac 1\\pi E\\theta(E^2-\\Delta^2)$\n",
    "\n",
    "If $\\mu>0$ number of particles in a dirac hamiltonian with a fermi dirac distibution is\n",
    "\n",
    "$n=\\int_0^\\mu \\rho(E)dE=\\frac 1\\pi \\int_0^\\mu E\\theta(E^2-\\Delta^2)dE=\\frac 1\\pi\\theta(\\mu^2-\\Delta^2)\\int_\\Delta^\\mu EdE = \\frac {\\theta(\\mu^2-\\Delta^2)}{2\\pi}(\\mu^2-\\Delta^2)$\n",
    "\n",
    "if $\\mu<0$ than we do the same, but with holes, so in the end\n",
    "\n",
    "$n=\\frac {\\theta(\\mu^2-\\Delta^2)}{2\\pi}(\\mu^2-\\Delta^2)\\textrm{sign} (\\mu)$"
   ]
  }
 ],
 "metadata": {
  "interpreter": {
   "hash": "31f2aee4e71d21fbe5cf8b01ff0e069b9275f58929596ceb00d14d90e3e16cd6"
  },
  "kernelspec": {
   "display_name": "Python 3.8.9 64-bit",
   "language": "python",
   "name": "python3"
  },
  "language_info": {
   "codemirror_mode": {
    "name": "ipython",
    "version": 3
   },
   "file_extension": ".py",
   "mimetype": "text/x-python",
   "name": "python",
   "nbconvert_exporter": "python",
   "pygments_lexer": "ipython3",
   "version": "3.9.7"
  },
  "orig_nbformat": 4
 },
 "nbformat": 4,
 "nbformat_minor": 2
}
